{
 "cells": [
  {
   "cell_type": "code",
   "execution_count": 2,
   "metadata": {
    "executionInfo": {
     "elapsed": 13,
     "status": "ok",
     "timestamp": 1760523413596,
     "user": {
      "displayName": "Ashwal Shanbhag",
      "userId": "10390027574939309166"
     },
     "user_tz": -330
    },
    "id": "6R_dl5V2bqAq"
   },
   "outputs": [],
   "source": [
    "#word embedding\n",
    "from tensorflow.keras.layers import Embedding\n",
    "from tensorflow.keras.models import Sequential\n",
    "from tensorflow.keras.preprocessing.sequence import pad_sequences"
   ]
  },
  {
   "cell_type": "code",
   "execution_count": null,
   "metadata": {
    "executionInfo": {
     "elapsed": 5,
     "status": "ok",
     "timestamp": 1760523413602,
     "user": {
      "displayName": "Ashwal Shanbhag",
      "userId": "10390027574939309166"
     },
     "user_tz": -330
    },
    "id": "jPupG5LFdLb9"
   },
   "outputs": [],
   "source": [
    "#sample  sentences\n",
    "sent=[  'the glass of milk',\n",
    "     'the glass of juice',\n",
    "     'the cup of tea',\n",
    "    'I am a good boy',\n",
    "     'I am a good developer',\n",
    "     'understand the meaning of words',\n",
    "     'your videos are good',]"
   ]
  },
  {
   "cell_type": "code",
   "execution_count": 4,
   "metadata": {
    "executionInfo": {
     "elapsed": 10,
     "status": "ok",
     "timestamp": 1760523413613,
     "user": {
      "displayName": "Ashwal Shanbhag",
      "userId": "10390027574939309166"
     },
     "user_tz": -330
    },
    "id": "CZh5yfNDdYKu"
   },
   "outputs": [],
   "source": [
    "from tensorflow.keras.preprocessing.text import one_hot"
   ]
  },
  {
   "cell_type": "code",
   "execution_count": null,
   "metadata": {
    "executionInfo": {
     "elapsed": 16,
     "status": "ok",
     "timestamp": 1760523413631,
     "user": {
      "displayName": "Ashwal Shanbhag",
      "userId": "10390027574939309166"
     },
     "user_tz": -330
    },
    "id": "TBFL2qU_dcnL"
   },
   "outputs": [],
   "source": [
    "# Vocabulary size\n",
    "voc_size=10000"
   ]
  },
  {
   "cell_type": "code",
   "execution_count": 6,
   "metadata": {
    "colab": {
     "base_uri": "https://localhost:8080/"
    },
    "executionInfo": {
     "elapsed": 5,
     "status": "ok",
     "timestamp": 1760523413637,
     "user": {
      "displayName": "Ashwal Shanbhag",
      "userId": "10390027574939309166"
     },
     "user_tz": -330
    },
    "id": "yeBykLlKdmRP",
    "outputId": "ddf7d167-5288-4cc9-9932-fe1902b268db"
   },
   "outputs": [
    {
     "name": "stdout",
     "output_type": "stream",
     "text": [
      "[[7167, 1707, 2098, 4312], [7167, 1707, 2098, 9730], [7167, 1738, 2098, 5310], [3130, 1814, 1432, 430, 8427], [3130, 1814, 1432, 430, 6110], [2384, 7167, 6577, 2098, 9419], [2158, 9692, 5900, 430]]\n"
     ]
    }
   ],
   "source": [
    "onehot_repr=[one_hot(words,voc_size)for words in sent]\n",
    "print(onehot_repr)"
   ]
  },
  {
   "cell_type": "code",
   "execution_count": 7,
   "metadata": {
    "executionInfo": {
     "elapsed": 1,
     "status": "ok",
     "timestamp": 1760523413639,
     "user": {
      "displayName": "Ashwal Shanbhag",
      "userId": "10390027574939309166"
     },
     "user_tz": -330
    },
    "id": "qRG9Ih8Udn6g"
   },
   "outputs": [],
   "source": [
    "import numpy as np"
   ]
  },
  {
   "cell_type": "code",
   "execution_count": null,
   "metadata": {
    "colab": {
     "base_uri": "https://localhost:8080/"
    },
    "executionInfo": {
     "elapsed": 30,
     "status": "ok",
     "timestamp": 1760523413668,
     "user": {
      "displayName": "Ashwal Shanbhag",
      "userId": "10390027574939309166"
     },
     "user_tz": -330
    },
    "id": "XhulXC9Bdnhv",
    "outputId": "624aa6d8-49e8-45cf-c236-d2bdfb0df8cb"
   },
   "outputs": [
    {
     "name": "stdout",
     "output_type": "stream",
     "text": [
      "[[   0    0    0    0 7167 1707 2098 4312]\n",
      " [   0    0    0    0 7167 1707 2098 9730]\n",
      " [   0    0    0    0 7167 1738 2098 5310]\n",
      " [   0    0    0 3130 1814 1432  430 8427]\n",
      " [   0    0    0 3130 1814 1432  430 6110]\n",
      " [   0    0    0 2384 7167 6577 2098 9419]\n",
      " [   0    0    0    0 2158 9692 5900  430]]\n"
     ]
    }
   ],
   "source": [
    "sent_length=8 #can be changed depending on the sentence length \n",
    "embedded_docs=pad_sequences(onehot_repr,padding='pre',maxlen=sent_length)\n",
    "print(embedded_docs)"
   ]
  },
  {
   "cell_type": "code",
   "execution_count": null,
   "metadata": {
    "executionInfo": {
     "elapsed": 3,
     "status": "ok",
     "timestamp": 1760523413668,
     "user": {
      "displayName": "Ashwal Shanbhag",
      "userId": "10390027574939309166"
     },
     "user_tz": -330
    },
    "id": "T070GoBhdnvE"
   },
   "outputs": [],
   "source": [
    "dim=10 # can also be increased or decreased based on requirement "
   ]
  },
  {
   "cell_type": "code",
   "execution_count": 10,
   "metadata": {
    "colab": {
     "base_uri": "https://localhost:8080/"
    },
    "executionInfo": {
     "elapsed": 84,
     "status": "ok",
     "timestamp": 1760523413751,
     "user": {
      "displayName": "Ashwal Shanbhag",
      "userId": "10390027574939309166"
     },
     "user_tz": -330
    },
    "id": "TWUkw3uLd0d4",
    "outputId": "90151ee3-3612-4ce6-be30-dfca08956e19"
   },
   "outputs": [
    {
     "name": "stderr",
     "output_type": "stream",
     "text": [
      "/usr/local/lib/python3.12/dist-packages/keras/src/layers/core/embedding.py:97: UserWarning: Argument `input_length` is deprecated. Just remove it.\n",
      "  warnings.warn(\n"
     ]
    }
   ],
   "source": [
    "model=Sequential()\n",
    "model.add(Embedding(voc_size,10,input_length=sent_length))\n",
    "model.compile('adam','mse')"
   ]
  },
  {
   "cell_type": "code",
   "execution_count": 11,
   "metadata": {
    "colab": {
     "base_uri": "https://localhost:8080/",
     "height": 161
    },
    "executionInfo": {
     "elapsed": 36,
     "status": "ok",
     "timestamp": 1760523413788,
     "user": {
      "displayName": "Ashwal Shanbhag",
      "userId": "10390027574939309166"
     },
     "user_tz": -330
    },
    "id": "uvdsBbD4d3Vn",
    "outputId": "e1e9daf7-d7d2-48a3-daf2-ad0558f344b7"
   },
   "outputs": [
    {
     "data": {
      "text/html": [
       "<pre style=\"white-space:pre;overflow-x:auto;line-height:normal;font-family:Menlo,'DejaVu Sans Mono',consolas,'Courier New',monospace\"><span style=\"font-weight: bold\">Model: \"sequential\"</span>\n",
       "</pre>\n"
      ],
      "text/plain": [
       "\u001b[1mModel: \"sequential\"\u001b[0m\n"
      ]
     },
     "metadata": {},
     "output_type": "display_data"
    },
    {
     "data": {
      "text/html": [
       "<pre style=\"white-space:pre;overflow-x:auto;line-height:normal;font-family:Menlo,'DejaVu Sans Mono',consolas,'Courier New',monospace\">┏━━━━━━━━━━━━━━━━━━━━━━━━━━━━━━━━━┳━━━━━━━━━━━━━━━━━━━━━━━━┳━━━━━━━━━━━━━━━┓\n",
       "┃<span style=\"font-weight: bold\"> Layer (type)                    </span>┃<span style=\"font-weight: bold\"> Output Shape           </span>┃<span style=\"font-weight: bold\">       Param # </span>┃\n",
       "┡━━━━━━━━━━━━━━━━━━━━━━━━━━━━━━━━━╇━━━━━━━━━━━━━━━━━━━━━━━━╇━━━━━━━━━━━━━━━┩\n",
       "│ embedding (<span style=\"color: #0087ff; text-decoration-color: #0087ff\">Embedding</span>)           │ ?                      │   <span style=\"color: #00af00; text-decoration-color: #00af00\">0</span> (unbuilt) │\n",
       "└─────────────────────────────────┴────────────────────────┴───────────────┘\n",
       "</pre>\n"
      ],
      "text/plain": [
       "┏━━━━━━━━━━━━━━━━━━━━━━━━━━━━━━━━━┳━━━━━━━━━━━━━━━━━━━━━━━━┳━━━━━━━━━━━━━━━┓\n",
       "┃\u001b[1m \u001b[0m\u001b[1mLayer (type)                   \u001b[0m\u001b[1m \u001b[0m┃\u001b[1m \u001b[0m\u001b[1mOutput Shape          \u001b[0m\u001b[1m \u001b[0m┃\u001b[1m \u001b[0m\u001b[1m      Param #\u001b[0m\u001b[1m \u001b[0m┃\n",
       "┡━━━━━━━━━━━━━━━━━━━━━━━━━━━━━━━━━╇━━━━━━━━━━━━━━━━━━━━━━━━╇━━━━━━━━━━━━━━━┩\n",
       "│ embedding (\u001b[38;5;33mEmbedding\u001b[0m)           │ ?                      │   \u001b[38;5;34m0\u001b[0m (unbuilt) │\n",
       "└─────────────────────────────────┴────────────────────────┴───────────────┘\n"
      ]
     },
     "metadata": {},
     "output_type": "display_data"
    },
    {
     "data": {
      "text/html": [
       "<pre style=\"white-space:pre;overflow-x:auto;line-height:normal;font-family:Menlo,'DejaVu Sans Mono',consolas,'Courier New',monospace\"><span style=\"font-weight: bold\"> Total params: </span><span style=\"color: #00af00; text-decoration-color: #00af00\">0</span> (0.00 B)\n",
       "</pre>\n"
      ],
      "text/plain": [
       "\u001b[1m Total params: \u001b[0m\u001b[38;5;34m0\u001b[0m (0.00 B)\n"
      ]
     },
     "metadata": {},
     "output_type": "display_data"
    },
    {
     "data": {
      "text/html": [
       "<pre style=\"white-space:pre;overflow-x:auto;line-height:normal;font-family:Menlo,'DejaVu Sans Mono',consolas,'Courier New',monospace\"><span style=\"font-weight: bold\"> Trainable params: </span><span style=\"color: #00af00; text-decoration-color: #00af00\">0</span> (0.00 B)\n",
       "</pre>\n"
      ],
      "text/plain": [
       "\u001b[1m Trainable params: \u001b[0m\u001b[38;5;34m0\u001b[0m (0.00 B)\n"
      ]
     },
     "metadata": {},
     "output_type": "display_data"
    },
    {
     "data": {
      "text/html": [
       "<pre style=\"white-space:pre;overflow-x:auto;line-height:normal;font-family:Menlo,'DejaVu Sans Mono',consolas,'Courier New',monospace\"><span style=\"font-weight: bold\"> Non-trainable params: </span><span style=\"color: #00af00; text-decoration-color: #00af00\">0</span> (0.00 B)\n",
       "</pre>\n"
      ],
      "text/plain": [
       "\u001b[1m Non-trainable params: \u001b[0m\u001b[38;5;34m0\u001b[0m (0.00 B)\n"
      ]
     },
     "metadata": {},
     "output_type": "display_data"
    }
   ],
   "source": [
    "model.summary()"
   ]
  },
  {
   "cell_type": "code",
   "execution_count": 12,
   "metadata": {
    "colab": {
     "base_uri": "https://localhost:8080/"
    },
    "executionInfo": {
     "elapsed": 262,
     "status": "ok",
     "timestamp": 1760523414054,
     "user": {
      "displayName": "Ashwal Shanbhag",
      "userId": "10390027574939309166"
     },
     "user_tz": -330
    },
    "id": "R4d-cbvyeGvU",
    "outputId": "bc6ece5c-8748-4f6e-faa2-2ba3bd9bdd16"
   },
   "outputs": [
    {
     "name": "stdout",
     "output_type": "stream",
     "text": [
      "\u001b[1m1/1\u001b[0m \u001b[32m━━━━━━━━━━━━━━━━━━━━\u001b[0m\u001b[37m\u001b[0m \u001b[1m0s\u001b[0m 202ms/step\n",
      "[[[ 3.1926718e-02  7.2973855e-03  1.0301694e-03 -3.7084699e-02\n",
      "   -1.6876139e-02 -4.7120500e-02  4.1881800e-03  2.3700539e-02\n",
      "    3.9381657e-02  4.1615080e-02]\n",
      "  [ 3.1926718e-02  7.2973855e-03  1.0301694e-03 -3.7084699e-02\n",
      "   -1.6876139e-02 -4.7120500e-02  4.1881800e-03  2.3700539e-02\n",
      "    3.9381657e-02  4.1615080e-02]\n",
      "  [ 3.1926718e-02  7.2973855e-03  1.0301694e-03 -3.7084699e-02\n",
      "   -1.6876139e-02 -4.7120500e-02  4.1881800e-03  2.3700539e-02\n",
      "    3.9381657e-02  4.1615080e-02]\n",
      "  [ 3.1926718e-02  7.2973855e-03  1.0301694e-03 -3.7084699e-02\n",
      "   -1.6876139e-02 -4.7120500e-02  4.1881800e-03  2.3700539e-02\n",
      "    3.9381657e-02  4.1615080e-02]\n",
      "  [ 4.6804357e-02 -2.7984584e-02 -3.9216518e-02  1.5450906e-02\n",
      "   -3.3771731e-02  3.0109096e-02 -4.0094960e-02 -2.5399303e-02\n",
      "   -2.5179697e-02  1.6429637e-02]\n",
      "  [ 1.1337686e-02  2.7468633e-02 -4.5396127e-02  4.5945909e-02\n",
      "   -3.2769941e-02 -3.5577763e-02  1.4472257e-02 -3.7749350e-02\n",
      "    7.1436651e-03 -3.3959351e-02]\n",
      "  [-3.5152305e-02  3.6707077e-02 -1.6744949e-02 -1.4809765e-02\n",
      "   -7.9117306e-03 -3.6975779e-02  4.1967619e-02  1.0345150e-02\n",
      "    3.2338750e-02  4.2134523e-03]\n",
      "  [ 2.9567350e-02 -4.3999564e-02  3.4777436e-02  4.2071868e-02\n",
      "   -2.8377522e-02 -2.4559772e-02 -2.3091352e-02  3.0679110e-02\n",
      "    2.1832671e-02  2.2278573e-02]]\n",
      "\n",
      " [[ 3.1926718e-02  7.2973855e-03  1.0301694e-03 -3.7084699e-02\n",
      "   -1.6876139e-02 -4.7120500e-02  4.1881800e-03  2.3700539e-02\n",
      "    3.9381657e-02  4.1615080e-02]\n",
      "  [ 3.1926718e-02  7.2973855e-03  1.0301694e-03 -3.7084699e-02\n",
      "   -1.6876139e-02 -4.7120500e-02  4.1881800e-03  2.3700539e-02\n",
      "    3.9381657e-02  4.1615080e-02]\n",
      "  [ 3.1926718e-02  7.2973855e-03  1.0301694e-03 -3.7084699e-02\n",
      "   -1.6876139e-02 -4.7120500e-02  4.1881800e-03  2.3700539e-02\n",
      "    3.9381657e-02  4.1615080e-02]\n",
      "  [ 3.1926718e-02  7.2973855e-03  1.0301694e-03 -3.7084699e-02\n",
      "   -1.6876139e-02 -4.7120500e-02  4.1881800e-03  2.3700539e-02\n",
      "    3.9381657e-02  4.1615080e-02]\n",
      "  [ 4.6804357e-02 -2.7984584e-02 -3.9216518e-02  1.5450906e-02\n",
      "   -3.3771731e-02  3.0109096e-02 -4.0094960e-02 -2.5399303e-02\n",
      "   -2.5179697e-02  1.6429637e-02]\n",
      "  [ 1.1337686e-02  2.7468633e-02 -4.5396127e-02  4.5945909e-02\n",
      "   -3.2769941e-02 -3.5577763e-02  1.4472257e-02 -3.7749350e-02\n",
      "    7.1436651e-03 -3.3959351e-02]\n",
      "  [-3.5152305e-02  3.6707077e-02 -1.6744949e-02 -1.4809765e-02\n",
      "   -7.9117306e-03 -3.6975779e-02  4.1967619e-02  1.0345150e-02\n",
      "    3.2338750e-02  4.2134523e-03]\n",
      "  [ 1.6559269e-02 -4.1859664e-02 -4.6776939e-02 -1.8835260e-02\n",
      "   -4.4791091e-02  1.1342466e-02  1.6718220e-02  2.2779536e-02\n",
      "   -1.2133740e-02  5.5600889e-03]]\n",
      "\n",
      " [[ 3.1926718e-02  7.2973855e-03  1.0301694e-03 -3.7084699e-02\n",
      "   -1.6876139e-02 -4.7120500e-02  4.1881800e-03  2.3700539e-02\n",
      "    3.9381657e-02  4.1615080e-02]\n",
      "  [ 3.1926718e-02  7.2973855e-03  1.0301694e-03 -3.7084699e-02\n",
      "   -1.6876139e-02 -4.7120500e-02  4.1881800e-03  2.3700539e-02\n",
      "    3.9381657e-02  4.1615080e-02]\n",
      "  [ 3.1926718e-02  7.2973855e-03  1.0301694e-03 -3.7084699e-02\n",
      "   -1.6876139e-02 -4.7120500e-02  4.1881800e-03  2.3700539e-02\n",
      "    3.9381657e-02  4.1615080e-02]\n",
      "  [ 3.1926718e-02  7.2973855e-03  1.0301694e-03 -3.7084699e-02\n",
      "   -1.6876139e-02 -4.7120500e-02  4.1881800e-03  2.3700539e-02\n",
      "    3.9381657e-02  4.1615080e-02]\n",
      "  [ 4.6804357e-02 -2.7984584e-02 -3.9216518e-02  1.5450906e-02\n",
      "   -3.3771731e-02  3.0109096e-02 -4.0094960e-02 -2.5399303e-02\n",
      "   -2.5179697e-02  1.6429637e-02]\n",
      "  [ 6.8818703e-03 -4.4070330e-02  3.4509785e-03 -4.1822344e-04\n",
      "    4.6482634e-02 -4.2141654e-02 -2.9292036e-02 -8.4011070e-03\n",
      "   -1.7554928e-02  4.1049015e-02]\n",
      "  [-3.5152305e-02  3.6707077e-02 -1.6744949e-02 -1.4809765e-02\n",
      "   -7.9117306e-03 -3.6975779e-02  4.1967619e-02  1.0345150e-02\n",
      "    3.2338750e-02  4.2134523e-03]\n",
      "  [ 6.3121915e-03 -4.4656087e-02  4.4595208e-02  3.5552051e-02\n",
      "    2.0626258e-02 -2.0710934e-02  4.6072159e-02 -4.8444618e-02\n",
      "    1.7276693e-02  2.1946441e-02]]\n",
      "\n",
      " [[ 3.1926718e-02  7.2973855e-03  1.0301694e-03 -3.7084699e-02\n",
      "   -1.6876139e-02 -4.7120500e-02  4.1881800e-03  2.3700539e-02\n",
      "    3.9381657e-02  4.1615080e-02]\n",
      "  [ 3.1926718e-02  7.2973855e-03  1.0301694e-03 -3.7084699e-02\n",
      "   -1.6876139e-02 -4.7120500e-02  4.1881800e-03  2.3700539e-02\n",
      "    3.9381657e-02  4.1615080e-02]\n",
      "  [ 3.1926718e-02  7.2973855e-03  1.0301694e-03 -3.7084699e-02\n",
      "   -1.6876139e-02 -4.7120500e-02  4.1881800e-03  2.3700539e-02\n",
      "    3.9381657e-02  4.1615080e-02]\n",
      "  [ 4.4882882e-02  3.0862678e-02 -1.8708706e-03 -1.5665542e-02\n",
      "    4.4542551e-04 -2.8656065e-02 -3.3768930e-02  4.1039955e-02\n",
      "    1.2684237e-02  3.4149434e-02]\n",
      "  [ 2.7329389e-02  2.4734143e-02  3.1312969e-02  4.4393744e-02\n",
      "   -3.0162871e-02  6.0502999e-03 -2.8507996e-02 -4.0972281e-02\n",
      "   -1.8868078e-02 -1.9607628e-02]\n",
      "  [-1.8670119e-02 -3.5625435e-02  9.6937306e-03  3.2294542e-05\n",
      "    1.7506171e-02 -9.6555725e-03  1.0389041e-02 -4.6551108e-02\n",
      "   -4.2787101e-02 -3.3031419e-02]\n",
      "  [-4.4150330e-02 -8.6528771e-03 -2.1412492e-02  3.1765070e-02\n",
      "   -3.6845960e-02 -2.4441887e-02 -4.1618787e-02  4.4183638e-02\n",
      "    3.1720962e-02 -4.9573421e-02]\n",
      "  [-1.3611458e-02 -2.9874897e-02  4.9894456e-02 -3.6905766e-02\n",
      "   -7.5268857e-03  3.0763056e-02 -3.9591372e-02 -1.0675274e-02\n",
      "    1.3341967e-02 -2.7602065e-02]]\n",
      "\n",
      " [[ 3.1926718e-02  7.2973855e-03  1.0301694e-03 -3.7084699e-02\n",
      "   -1.6876139e-02 -4.7120500e-02  4.1881800e-03  2.3700539e-02\n",
      "    3.9381657e-02  4.1615080e-02]\n",
      "  [ 3.1926718e-02  7.2973855e-03  1.0301694e-03 -3.7084699e-02\n",
      "   -1.6876139e-02 -4.7120500e-02  4.1881800e-03  2.3700539e-02\n",
      "    3.9381657e-02  4.1615080e-02]\n",
      "  [ 3.1926718e-02  7.2973855e-03  1.0301694e-03 -3.7084699e-02\n",
      "   -1.6876139e-02 -4.7120500e-02  4.1881800e-03  2.3700539e-02\n",
      "    3.9381657e-02  4.1615080e-02]\n",
      "  [ 4.4882882e-02  3.0862678e-02 -1.8708706e-03 -1.5665542e-02\n",
      "    4.4542551e-04 -2.8656065e-02 -3.3768930e-02  4.1039955e-02\n",
      "    1.2684237e-02  3.4149434e-02]\n",
      "  [ 2.7329389e-02  2.4734143e-02  3.1312969e-02  4.4393744e-02\n",
      "   -3.0162871e-02  6.0502999e-03 -2.8507996e-02 -4.0972281e-02\n",
      "   -1.8868078e-02 -1.9607628e-02]\n",
      "  [-1.8670119e-02 -3.5625435e-02  9.6937306e-03  3.2294542e-05\n",
      "    1.7506171e-02 -9.6555725e-03  1.0389041e-02 -4.6551108e-02\n",
      "   -4.2787101e-02 -3.3031419e-02]\n",
      "  [-4.4150330e-02 -8.6528771e-03 -2.1412492e-02  3.1765070e-02\n",
      "   -3.6845960e-02 -2.4441887e-02 -4.1618787e-02  4.4183638e-02\n",
      "    3.1720962e-02 -4.9573421e-02]\n",
      "  [ 2.9470548e-03  4.8389580e-02 -5.7453290e-03 -1.0002434e-02\n",
      "    1.3546571e-03  3.6316086e-02  4.7567971e-03  1.9082967e-02\n",
      "    2.5787864e-02  4.1479494e-02]]\n",
      "\n",
      " [[ 3.1926718e-02  7.2973855e-03  1.0301694e-03 -3.7084699e-02\n",
      "   -1.6876139e-02 -4.7120500e-02  4.1881800e-03  2.3700539e-02\n",
      "    3.9381657e-02  4.1615080e-02]\n",
      "  [ 3.1926718e-02  7.2973855e-03  1.0301694e-03 -3.7084699e-02\n",
      "   -1.6876139e-02 -4.7120500e-02  4.1881800e-03  2.3700539e-02\n",
      "    3.9381657e-02  4.1615080e-02]\n",
      "  [ 3.1926718e-02  7.2973855e-03  1.0301694e-03 -3.7084699e-02\n",
      "   -1.6876139e-02 -4.7120500e-02  4.1881800e-03  2.3700539e-02\n",
      "    3.9381657e-02  4.1615080e-02]\n",
      "  [-2.7409697e-02  2.8948616e-02 -2.9010773e-02  3.0227888e-02\n",
      "   -1.7304420e-03  1.4431406e-02 -4.7045734e-02 -2.9779732e-02\n",
      "   -1.2767136e-02 -4.7653772e-02]\n",
      "  [ 4.6804357e-02 -2.7984584e-02 -3.9216518e-02  1.5450906e-02\n",
      "   -3.3771731e-02  3.0109096e-02 -4.0094960e-02 -2.5399303e-02\n",
      "   -2.5179697e-02  1.6429637e-02]\n",
      "  [-2.4932850e-02 -4.1408464e-04  3.0694120e-03 -1.4478575e-02\n",
      "    4.3282617e-02 -7.4537024e-03  9.0152845e-03  4.1657928e-02\n",
      "   -4.1988589e-02 -3.1600464e-02]\n",
      "  [-3.5152305e-02  3.6707077e-02 -1.6744949e-02 -1.4809765e-02\n",
      "   -7.9117306e-03 -3.6975779e-02  4.1967619e-02  1.0345150e-02\n",
      "    3.2338750e-02  4.2134523e-03]\n",
      "  [-1.1814546e-02  7.0233457e-03  1.9644294e-02 -2.3656357e-02\n",
      "   -7.2666407e-03  3.4038536e-03  4.8966814e-02  4.0932860e-02\n",
      "   -3.8446248e-02  4.6431709e-02]]\n",
      "\n",
      " [[ 3.1926718e-02  7.2973855e-03  1.0301694e-03 -3.7084699e-02\n",
      "   -1.6876139e-02 -4.7120500e-02  4.1881800e-03  2.3700539e-02\n",
      "    3.9381657e-02  4.1615080e-02]\n",
      "  [ 3.1926718e-02  7.2973855e-03  1.0301694e-03 -3.7084699e-02\n",
      "   -1.6876139e-02 -4.7120500e-02  4.1881800e-03  2.3700539e-02\n",
      "    3.9381657e-02  4.1615080e-02]\n",
      "  [ 3.1926718e-02  7.2973855e-03  1.0301694e-03 -3.7084699e-02\n",
      "   -1.6876139e-02 -4.7120500e-02  4.1881800e-03  2.3700539e-02\n",
      "    3.9381657e-02  4.1615080e-02]\n",
      "  [ 3.1926718e-02  7.2973855e-03  1.0301694e-03 -3.7084699e-02\n",
      "   -1.6876139e-02 -4.7120500e-02  4.1881800e-03  2.3700539e-02\n",
      "    3.9381657e-02  4.1615080e-02]\n",
      "  [ 2.3679622e-03 -1.0896780e-02  2.8451111e-02  3.5568226e-02\n",
      "   -5.3120777e-04  4.1798320e-02  1.3765458e-02 -2.9003823e-02\n",
      "   -2.7302790e-02  3.9406847e-02]\n",
      "  [-3.9184578e-03  1.6492356e-02  4.3366704e-02 -4.5965135e-02\n",
      "   -3.4836471e-02  2.9263724e-02 -4.5797493e-02  3.4144949e-02\n",
      "    1.7436173e-02 -3.1297229e-02]\n",
      "  [-1.3989639e-02  4.5717847e-02  3.7674095e-02  2.2548806e-02\n",
      "   -3.9598830e-03 -3.9127301e-02  2.1924153e-03 -2.2806956e-02\n",
      "   -4.6679057e-02 -3.2880507e-02]\n",
      "  [-4.4150330e-02 -8.6528771e-03 -2.1412492e-02  3.1765070e-02\n",
      "   -3.6845960e-02 -2.4441887e-02 -4.1618787e-02  4.4183638e-02\n",
      "    3.1720962e-02 -4.9573421e-02]]]\n"
     ]
    }
   ],
   "source": [
    "print(model.predict(embedded_docs))"
   ]
  },
  {
   "cell_type": "code",
   "execution_count": 13,
   "metadata": {
    "colab": {
     "base_uri": "https://localhost:8080/"
    },
    "executionInfo": {
     "elapsed": 10,
     "status": "ok",
     "timestamp": 1760523414067,
     "user": {
      "displayName": "Ashwal Shanbhag",
      "userId": "10390027574939309166"
     },
     "user_tz": -330
    },
    "id": "u5w9vED9eLNG",
    "outputId": "77f650bb-2d49-4126-fef7-0193606b1b45"
   },
   "outputs": [
    {
     "data": {
      "text/plain": [
       "array([   0,    0,    0,    0, 7167, 1707, 2098, 4312], dtype=int32)"
      ]
     },
     "execution_count": 13,
     "metadata": {},
     "output_type": "execute_result"
    }
   ],
   "source": [
    "embedded_docs[0]"
   ]
  },
  {
   "cell_type": "code",
   "execution_count": 14,
   "metadata": {
    "colab": {
     "base_uri": "https://localhost:8080/"
    },
    "executionInfo": {
     "elapsed": 58,
     "status": "ok",
     "timestamp": 1760523414126,
     "user": {
      "displayName": "Ashwal Shanbhag",
      "userId": "10390027574939309166"
     },
     "user_tz": -330
    },
    "id": "ERf8i07_eOu3",
    "outputId": "8e945005-af5a-4d61-fdf5-60517a508d59"
   },
   "outputs": [
    {
     "name": "stdout",
     "output_type": "stream",
     "text": [
      "\u001b[1m1/1\u001b[0m \u001b[32m━━━━━━━━━━━━━━━━━━━━\u001b[0m\u001b[37m\u001b[0m \u001b[1m0s\u001b[0m 33ms/step\n",
      "[[ 0.03192672  0.00729739  0.00103017 -0.0370847  -0.01687614 -0.0471205\n",
      "   0.00418818  0.02370054  0.03938166  0.04161508]\n",
      " [ 0.03192672  0.00729739  0.00103017 -0.0370847  -0.01687614 -0.0471205\n",
      "   0.00418818  0.02370054  0.03938166  0.04161508]\n",
      " [ 0.03192672  0.00729739  0.00103017 -0.0370847  -0.01687614 -0.0471205\n",
      "   0.00418818  0.02370054  0.03938166  0.04161508]\n",
      " [ 0.03192672  0.00729739  0.00103017 -0.0370847  -0.01687614 -0.0471205\n",
      "   0.00418818  0.02370054  0.03938166  0.04161508]\n",
      " [ 0.04680436 -0.02798458 -0.03921652  0.01545091 -0.03377173  0.0301091\n",
      "  -0.04009496 -0.0253993  -0.0251797   0.01642964]\n",
      " [ 0.01133769  0.02746863 -0.04539613  0.04594591 -0.03276994 -0.03557776\n",
      "   0.01447226 -0.03774935  0.00714367 -0.03395935]\n",
      " [-0.0351523   0.03670708 -0.01674495 -0.01480976 -0.00791173 -0.03697578\n",
      "   0.04196762  0.01034515  0.03233875  0.00421345]\n",
      " [ 0.02956735 -0.04399956  0.03477744  0.04207187 -0.02837752 -0.02455977\n",
      "  -0.02309135  0.03067911  0.02183267  0.02227857]]\n"
     ]
    }
   ],
   "source": [
    "print(model.predict(embedded_docs)[0])"
   ]
  }
 ],
 "metadata": {
  "colab": {
   "authorship_tag": "ABX9TyPVDupMuv4bgbzYgEOCIlMB",
   "provenance": []
  },
  "kernelspec": {
   "display_name": "Python 3 (ipykernel)",
   "language": "python",
   "name": "python3"
  },
  "language_info": {
   "codemirror_mode": {
    "name": "ipython",
    "version": 3
   },
   "file_extension": ".py",
   "mimetype": "text/x-python",
   "name": "python",
   "nbconvert_exporter": "python",
   "pygments_lexer": "ipython3",
   "version": "3.12.7"
  }
 },
 "nbformat": 4,
 "nbformat_minor": 4
}
